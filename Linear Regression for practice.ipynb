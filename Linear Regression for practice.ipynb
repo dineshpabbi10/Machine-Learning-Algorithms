{
 "cells": [
  {
   "cell_type": "code",
   "execution_count": 2,
   "metadata": {},
   "outputs": [],
   "source": [
    "import pandas as pa\n",
    "import matplotlib.pyplot as pp\n",
    "import numpy as np"
   ]
  },
  {
   "cell_type": "code",
   "execution_count": 29,
   "metadata": {},
   "outputs": [
    {
     "name": "stdout",
     "output_type": "stream",
     "text": [
      "shape of x is (99, 1)\n",
      "shape of y is (99, 1)\n"
     ]
    }
   ],
   "source": [
    "x1 = pa.read_csv(\"G:\\Coding Blocks\\Documents\\linearX.csv\")\n",
    "y1 = pa.read_csv(\"G:\\Coding Blocks\\Documents\\linearY.csv\")\n",
    "x = x1.values\n",
    "y = y1.values\n",
    "print(\"shape of x is {0}\".format(x.shape))\n",
    "print(\"shape of y is {0}\".format(y.shape))"
   ]
  },
  {
   "cell_type": "code",
   "execution_count": 30,
   "metadata": {},
   "outputs": [
    {
     "name": "stdout",
     "output_type": "stream",
     "text": [
      "First 5 values of x\n"
     ]
    },
    {
     "ename": "AttributeError",
     "evalue": "'numpy.ndarray' object has no attribute 'head'",
     "output_type": "error",
     "traceback": [
      "\u001b[1;31m---------------------------------------------------------------------------\u001b[0m",
      "\u001b[1;31mAttributeError\u001b[0m                            Traceback (most recent call last)",
      "\u001b[1;32m<ipython-input-30-1713548e98d5>\u001b[0m in \u001b[0;36m<module>\u001b[1;34m()\u001b[0m\n\u001b[0;32m      1\u001b[0m \u001b[0mprint\u001b[0m\u001b[1;33m(\u001b[0m\u001b[1;34m\"First 5 values of x\"\u001b[0m\u001b[1;33m)\u001b[0m\u001b[1;33m\u001b[0m\u001b[0m\n\u001b[1;32m----> 2\u001b[1;33m \u001b[0mprint\u001b[0m\u001b[1;33m(\u001b[0m\u001b[0mx\u001b[0m\u001b[1;33m.\u001b[0m\u001b[0mhead\u001b[0m\u001b[1;33m(\u001b[0m\u001b[1;36m5\u001b[0m\u001b[1;33m)\u001b[0m\u001b[1;33m)\u001b[0m\u001b[1;33m\u001b[0m\u001b[0m\n\u001b[0m\u001b[0;32m      3\u001b[0m \u001b[0mprint\u001b[0m\u001b[1;33m(\u001b[0m\u001b[1;34m\"===================================\"\u001b[0m\u001b[1;33m)\u001b[0m\u001b[1;33m\u001b[0m\u001b[0m\n\u001b[0;32m      4\u001b[0m \u001b[0mprint\u001b[0m\u001b[1;33m(\u001b[0m\u001b[1;34m\"First 5 values of y\"\u001b[0m\u001b[1;33m)\u001b[0m\u001b[1;33m\u001b[0m\u001b[0m\n\u001b[0;32m      5\u001b[0m \u001b[0mprint\u001b[0m\u001b[1;33m(\u001b[0m\u001b[0my\u001b[0m\u001b[1;33m.\u001b[0m\u001b[0mhead\u001b[0m\u001b[1;33m(\u001b[0m\u001b[1;36m5\u001b[0m\u001b[1;33m)\u001b[0m\u001b[1;33m)\u001b[0m\u001b[1;33m\u001b[0m\u001b[0m\n",
      "\u001b[1;31mAttributeError\u001b[0m: 'numpy.ndarray' object has no attribute 'head'"
     ]
    }
   ],
   "source": [
    "print(\"First 5 values of x\")\n",
    "print(x1.head(5))\n",
    "print(\"===================================\")\n",
    "print(\"First 5 values of y\")\n",
    "print(y1.head(5))"
   ]
  },
  {
   "cell_type": "code",
   "execution_count": 31,
   "metadata": {},
   "outputs": [
    {
     "name": "stdout",
     "output_type": "stream",
     "text": [
      "scatter plot without normalization of data\n"
     ]
    },
    {
     "data": {
      "image/png": "[encoded data removed]",
      "text/plain": [
       "<Figure size 432x288 with 1 Axes>"
      ]
     },
     "metadata": {},
     "output_type": "display_data"
    }
   ],
   "source": [
    "print(\"scatter plot without normalization of data\")\n",
    "pp.scatter(x,y)\n",
    "pp.show()"
   ]
  },
  {
   "cell_type": "code",
   "execution_count": 33,
   "metadata": {},
   "outputs": [
    {
     "name": "stdout",
     "output_type": "stream",
     "text": [
      "normalizing the data:\n",
      "===================================\n",
      "   9.1\n",
      "0  8.0\n",
      "1  9.1\n",
      "2  8.4\n",
      "3  6.9\n",
      "4  7.7\n"
     ]
    }
   ],
   "source": [
    "print(\"normalizing the data:\")\n",
    "print(\"===================================\")\n",
    "x = (x -  x.mean())/x.std()\n",
    "print(x1.head(5))"
   ]
  },
  {
   "cell_type": "code",
   "execution_count": 34,
   "metadata": {},
   "outputs": [
    {
     "name": "stdout",
     "output_type": "stream",
     "text": [
      "Scatter plot for normalized data :\n",
      "====================================\n"
     ]
    },
    {
     "data": {
      "image/png": "[encoded data removed]",
      "text/plain": [
       "<Figure size 432x288 with 1 Axes>"
      ]
     },
     "metadata": {},
     "output_type": "display_data"
    }
   ],
   "source": [
    "print(\"Scatter plot for normalized data :\")\n",
    "print(\"====================================\")\n",
    "pp.scatter(x,y)\n",
    "pp.show()"
   ]
  },
  {
   "cell_type": "markdown",
   "metadata": {},
   "source": [
    "# Designing algo for linear regression"
   ]
  },
  {
   "cell_type": "code",
   "execution_count": 53,
   "metadata": {},
   "outputs": [
    {
     "name": "stdout",
     "output_type": "stream",
     "text": [
      "[0.99660749 0.0013579 ]\n"
     ]
    },
    {
     "data": {
      "text/plain": [
       "[<matplotlib.lines.Line2D at 0x19be95dd048>]"
      ]
     },
     "execution_count": 53,
     "metadata": {},
     "output_type": "execute_result"
    },
    {
     "data": {
      "image/png": "[encoded data removed]",
      "text/plain": [
       "<Figure size 432x288 with 1 Axes>"
      ]
     },
     "metadata": {},
     "output_type": "display_data"
    }
   ],
   "source": [
    "def hypothesis(a,theta):\n",
    "    return theta[0] + theta[1]*a\n",
    "\n",
    "def error(x,y,theta):\n",
    "    err = 0\n",
    "    m =  y.shape[0]\n",
    "    for i in range(m):\n",
    "        h = hypothesis(x[i],theta)\n",
    "        e = (y[i] - h)**2\n",
    "        err += e\n",
    "    return err/2\n",
    "\n",
    "def gradient(x,y,theta):  ##calculating slope\n",
    "    grad = np.zeros((2,))\n",
    "    m =  y.shape[0]\n",
    "    for i in range(m):\n",
    "        h = hypothesis(x[i],theta)\n",
    "        grad[0] += (y[i] - h)\n",
    "        grad[1] += (y[i] - h)*x[i]\n",
    "    return grad\n",
    "\n",
    "def gradientDes(x,y,learning_rate = 0.001):\n",
    "    itr = 0\n",
    "    theta = np.zeros((2,))  ## important\n",
    "    e = error(x,y,theta)\n",
    "    errorList = [e]\n",
    "    while itr<=100 :\n",
    "        m =  gradient(x,y,theta)\n",
    "        theta[0] = theta[0] + learning_rate*m[0]\n",
    "        theta[1] = theta[1] + learning_rate*m[1]\n",
    "        ne = error(x,y,theta)\n",
    "        errorList.append(ne)\n",
    "        itr += 1\n",
    "    return theta,errorList\n",
    "\n",
    "finalT,errorList = gradientDes(x,y)\n",
    "print(finalT)\n",
    "pp.plot(errorList)\n",
    "\n",
    "        "
   ]
  },
  {
   "cell_type": "code",
   "execution_count": 54,
   "metadata": {},
   "outputs": [
    {
     "data": {
      "image/png": "[encoded data removed]",
      "text/plain": [
       "<Figure size 432x288 with 1 Axes>"
      ]
     },
     "metadata": {},
     "output_type": "display_data"
    }
   ],
   "source": [
    "def drawline(theta):\n",
    "    x_pts = np.linspace(-2,5,10)\n",
    "    y_pts = hypothesis(x_pts,finalT)\n",
    "    pp.scatter(x,y,label=\"training data\")\n",
    "    pp.plot(x_pts,y_pts,color=\"black\",label =\"prediction\")\n",
    "    pp.legend()\n",
    "    pp.show()\n",
    "drawline(finalT)"
   ]
  }
 ],
 "metadata": {
  "kernelspec": {
   "display_name": "Python 3",
   "language": "python",
   "name": "python3"
  },
  "language_info": {
   "codemirror_mode": {
    "name": "ipython",
    "version": 3
   },
   "file_extension": ".py",
   "mimetype": "text/x-python",
   "name": "python",
   "nbconvert_exporter": "python",
   "pygments_lexer": "ipython3",
   "version": "3.6.5"
  }
 },
 "nbformat": 4,
 "nbformat_minor": 2
}
