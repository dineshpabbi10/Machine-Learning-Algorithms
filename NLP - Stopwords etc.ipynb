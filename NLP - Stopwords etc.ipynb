{
 "cells": [
  {
   "cell_type": "code",
   "execution_count": 1,
   "metadata": {},
   "outputs": [],
   "source": [
    "import matplotlib.pyplot as plt\n",
    "import numpy as np\n",
    "import pandas as pd\n",
    "from nltk.corpus import brown"
   ]
  },
  {
   "cell_type": "code",
   "execution_count": 6,
   "metadata": {},
   "outputs": [
    {
     "name": "stdout",
     "output_type": "stream",
     "text": [
      "['adventure', 'belles_lettres', 'editorial', 'fiction', 'government', 'hobbies', 'humor', 'learned', 'lore', 'mystery', 'news', 'religion', 'reviews', 'romance', 'science_fiction']\n"
     ]
    }
   ],
   "source": [
    "print(brown.categories())"
   ]
  },
  {
   "cell_type": "code",
   "execution_count": 7,
   "metadata": {},
   "outputs": [
    {
     "name": "stdout",
     "output_type": "stream",
     "text": [
      "1053\n",
      "['For', 'it', 'seems', 'that', 'Barco', ',', 'fancying', 'himself', 'a', \"ladies'\", 'man', '(', 'and', 'why', 'not', ',', 'after', 'seven', 'marriages', '?', '?']\n"
     ]
    }
   ],
   "source": [
    "data = brown.sents(categories = 'humor')\n",
    "print(len(data))\n",
    "print(data[1])"
   ]
  },
  {
   "cell_type": "code",
   "execution_count": 50,
   "metadata": {},
   "outputs": [],
   "source": [
    "x = \"I am Dinesh and i love to watch football. Of course, Messi is my favourite player and Barcelona is my favourite football club.\""
   ]
  },
  {
   "cell_type": "code",
   "execution_count": 12,
   "metadata": {},
   "outputs": [],
   "source": [
    "from nltk.tokenize import sent_tokenize,word_tokenize"
   ]
  },
  {
   "cell_type": "code",
   "execution_count": 51,
   "metadata": {},
   "outputs": [
    {
     "name": "stdout",
     "output_type": "stream",
     "text": [
      "I am Dinesh and i love to watch football. Of course, Messi is my favourite player and Barcelona is my favourite football club.\n"
     ]
    }
   ],
   "source": [
    "\n",
    "print(x)\n"
   ]
  },
  {
   "cell_type": "code",
   "execution_count": 52,
   "metadata": {},
   "outputs": [
    {
     "name": "stdout",
     "output_type": "stream",
     "text": [
      "['I', 'am', 'Dinesh', 'and', 'i', 'love', 'to', 'watch', 'football', '.', 'Of', 'course', ',', 'Messi', 'is', 'my', 'favourite', 'player', 'and', 'Barcelona', 'is', 'my', 'favourite', 'football', 'club', '.']\n"
     ]
    }
   ],
   "source": [
    "l = word_tokenize(x)\n",
    "# for x in x1:\n",
    "#     l.append(word_tokenize(x))\n",
    "    \n",
    "print(l)\n",
    "    "
   ]
  },
  {
   "cell_type": "code",
   "execution_count": 2,
   "metadata": {},
   "outputs": [],
   "source": [
    "from nltk.corpus import stopwords"
   ]
  },
  {
   "cell_type": "code",
   "execution_count": 9,
   "metadata": {},
   "outputs": [
    {
     "name": "stdout",
     "output_type": "stream",
     "text": [
      "179\n",
      "{'own', \"hasn't\", 'out', \"you'll\", 'about', 's', 'up', \"aren't\", \"you'd\", 'just', 'and', 'few', 'should', 'his', 'to', \"it's\", 'she', 'ain', 'or', 'if', 'doesn', 'theirs', \"you're\", 'into', 'weren', \"mightn't\", 'o', 'again', 'him', \"weren't\", \"mustn't\", 'off', 'but', 'because', \"haven't\", 'couldn', 'i', 'won', \"wasn't\", 'from', 'on', \"don't\", 'shouldn', 'its', \"needn't\", 'my', 'will', 'myself', 'by', 'such', 'haven', \"won't\", 'does', 'didn', 'until', 'has', 'other', 'hadn', 'themselves', 'll', 'each', \"wouldn't\", 'then', 'y', 'mightn', 'them', 'these', 'once', 'that', 'not', 'shan', 'below', 'while', 'all', 'at', 'were', 'most', 'had', 'during', 'been', 'in', 'against', 'it', 'why', 'before', 'down', 'do', 'aren', 'her', 'as', 'those', 'ourselves', 'above', 're', 'mustn', 'how', 'being', 'are', 't', 'be', \"she's\", 'did', 'their', 'have', 'can', \"shan't\", 'after', \"should've\", 'whom', 'under', 'we', 'a', 'wasn', 'don', 'there', 'yours', 'over', 'some', 'm', \"doesn't\", 'this', \"hadn't\", 'same', 'what', 'an', \"couldn't\", \"isn't\", 'only', 'yourselves', 've', 'hasn', 'who', 'ours', 'through', 'further', 'here', \"didn't\", 'ma', 'more', 'for', 'our', 'hers', 'they', 'of', 'no', 'any', 'am', 'd', 'me', 'where', 'you', 'wouldn', 'too', \"that'll\", 'which', 'was', 'with', 'doing', 'the', \"you've\", 'herself', 'so', 'than', 'now', 'between', 'very', 'himself', 'needn', \"shouldn't\", 'nor', 'both', 'isn', 'is', 'your', 'he', 'itself', 'yourself', 'having', 'when'}\n"
     ]
    }
   ],
   "source": [
    "sw = set(stopwords.words('english'))\n",
    "print(len(sw))\n",
    "print(sw)"
   ]
  },
  {
   "cell_type": "code",
   "execution_count": 7,
   "metadata": {},
   "outputs": [],
   "source": [
    "def swRemoval(abc):\n",
    "    result = [x for x in abc if x not in sw]\n",
    "    return result"
   ]
  },
  {
   "cell_type": "code",
   "execution_count": 56,
   "metadata": {},
   "outputs": [
    {
     "name": "stdout",
     "output_type": "stream",
     "text": [
      "['I', 'Dinesh', 'love', 'watch', 'football', '.', 'Of', 'course', ',', 'Messi', 'favourite', 'player', 'Barcelona', 'favourite', 'football', 'club', '.']\n",
      "['I', 'am', 'Dinesh', 'and', 'i', 'love', 'to', 'watch', 'football', '.', 'Of', 'course', ',', 'Messi', 'is', 'my', 'favourite', 'player', 'and', 'Barcelona', 'is', 'my', 'favourite', 'football', 'club', '.']\n"
     ]
    }
   ],
   "source": [
    "l2 = swRemoval(l)\n",
    "print(l2)\n",
    "print(l)"
   ]
  },
  {
   "cell_type": "markdown",
   "metadata": {},
   "source": [
    "## REGEX TOKENIZER"
   ]
  },
  {
   "cell_type": "code",
   "execution_count": 61,
   "metadata": {},
   "outputs": [],
   "source": [
    "from nltk.tokenize import RegexpTokenizer"
   ]
  },
  {
   "cell_type": "code",
   "execution_count": 65,
   "metadata": {},
   "outputs": [],
   "source": [
    "tokenizer = RegexpTokenizer(\"[a-zA-Z0-9@]+\")"
   ]
  },
  {
   "cell_type": "code",
   "execution_count": 68,
   "metadata": {},
   "outputs": [],
   "source": [
    "l3 = tokenizer.tokenize(x)"
   ]
  },
  {
   "cell_type": "code",
   "execution_count": 71,
   "metadata": {},
   "outputs": [
    {
     "name": "stdout",
     "output_type": "stream",
     "text": [
      "['I', 'am', 'Dinesh', 'and', 'i', 'love', 'to', 'watch', 'football', 'Of', 'course', 'Messi', 'is', 'my', 'favourite', 'player', 'and', 'Barcelona', 'is', 'my', 'favourite', 'football', 'club']\n"
     ]
    }
   ],
   "source": [
    "print(l3)\n",
    "l4 = swRemoval(l3)"
   ]
  },
  {
   "cell_type": "code",
   "execution_count": 73,
   "metadata": {},
   "outputs": [
    {
     "name": "stdout",
     "output_type": "stream",
     "text": [
      "['I', 'Dinesh', 'love', 'watch', 'football', 'Of', 'course', 'Messi', 'favourite', 'player', 'Barcelona', 'favourite', 'football', 'club']\n"
     ]
    }
   ],
   "source": [
    "print(l4)"
   ]
  },
  {
   "cell_type": "markdown",
   "metadata": {},
   "source": [
    "# Assignment :"
   ]
  },
  {
   "cell_type": "code",
   "execution_count": 74,
   "metadata": {},
   "outputs": [],
   "source": [
    "def pipeline():\n",
    "    text = input(\"Enter the text Please\")\n",
    "    temp = tokenizer.tokenize(text)\n",
    "    temp = swRemoval(temp)\n",
    "    print(temp)\n",
    "    return temp"
   ]
  },
  {
   "cell_type": "code",
   "execution_count": 76,
   "metadata": {},
   "outputs": [
    {
     "name": "stdout",
     "output_type": "stream",
     "text": [
      "Enter the text PleaseHello ji , what am i saying ? Isn't Renu Bala the best person ever?\n",
      "['Hello', 'ji', 'saying', 'Isn', 'Renu', 'Bala', 'best', 'person', 'ever']\n"
     ]
    }
   ],
   "source": [
    "z = pipeline()"
   ]
  },
  {
   "cell_type": "code",
   "execution_count": 77,
   "metadata": {},
   "outputs": [],
   "source": [
    "from nltk.stem import PorterStemmer"
   ]
  },
  {
   "cell_type": "code",
   "execution_count": 79,
   "metadata": {},
   "outputs": [
    {
     "name": "stdout",
     "output_type": "stream",
     "text": [
      "['hello', 'ji', 'say', 'isn', 'renu', 'bala', 'best', 'person', 'ever']\n"
     ]
    }
   ],
   "source": [
    "ps = PorterStemmer()\n",
    "def stemmer(text):\n",
    "    result = []\n",
    "    for x in text:\n",
    "        result.append(ps.stem(x))\n",
    "    return result\n",
    "\n",
    "z = stemmer(z)\n",
    "print(z)\n",
    "        "
   ]
  },
  {
   "cell_type": "code",
   "execution_count": 15,
   "metadata": {},
   "outputs": [],
   "source": [
    "z = word_tokenize(\"#Coding-Blocks is a great source to learn @machine_learning.\")\n",
    "z = swRemoval(z)"
   ]
  },
  {
   "cell_type": "code",
   "execution_count": 16,
   "metadata": {},
   "outputs": [
    {
     "name": "stdout",
     "output_type": "stream",
     "text": [
      "['#', 'Coding-Blocks', 'great', 'source', 'learn', '@', 'machine_learning', '.']\n"
     ]
    }
   ],
   "source": [
    "print(z)"
   ]
  }
 ],
 "metadata": {
  "kernelspec": {
   "display_name": "Python 3",
   "language": "python",
   "name": "python3"
  },
  "language_info": {
   "codemirror_mode": {
    "name": "ipython",
    "version": 3
   },
   "file_extension": ".py",
   "mimetype": "text/x-python",
   "name": "python",
   "nbconvert_exporter": "python",
   "pygments_lexer": "ipython3",
   "version": "3.7.0"
  }
 },
 "nbformat": 4,
 "nbformat_minor": 2
}
