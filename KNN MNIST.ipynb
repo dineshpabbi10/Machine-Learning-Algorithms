{
 "cells": [
  {
   "cell_type": "code",
   "execution_count": 2,
   "metadata": {},
   "outputs": [],
   "source": [
    "import matplotlib.pyplot as plt\n",
    "import numpy as np\n",
    "import pandas as pd"
   ]
  },
  {
   "cell_type": "markdown",
   "metadata": {},
   "source": [
    "# importing the data"
   ]
  },
  {
   "cell_type": "code",
   "execution_count": 30,
   "metadata": {},
   "outputs": [
    {
     "name": "stdout",
     "output_type": "stream",
     "text": [
      "(42000, 785)\n",
      "<class 'numpy.ndarray'>\n",
      "shape of x = (42000, 784)\n",
      "shape of y = (42000,)\n"
     ]
    }
   ],
   "source": [
    "file = pd.read_csv(\"G:\\Coding Blocks\\Documents\\mnist_train.csv\")\n",
    "print(file.shape)\n",
    "data = file.values\n",
    "print(type(data))\n",
    "x = data[:,1:]\n",
    "y = data[:,0]\n",
    "l = x.shape[0]\n",
    "l = int(0.8*(l))\n",
    "x_train = x[:l,:]\n",
    "y_train = y[:l]\n",
    "x_test = x[l:,:]\n",
    "y_test = y[l:]\n",
    "print(\"shape of x = {0}\".format(x.shape))\n",
    "print(\"shape of y = {0}\".format(y.shape))"
   ]
  },
  {
   "cell_type": "code",
   "execution_count": 32,
   "metadata": {},
   "outputs": [
    {
     "data": {
      "image/png": "[encoded data removed]",
      "text/plain": [
       "<Figure size 432x288 with 1 Axes>"
      ]
     },
     "metadata": {},
     "output_type": "display_data"
    },
    {
     "name": "stdout",
     "output_type": "stream",
     "text": [
      "7\n"
     ]
    }
   ],
   "source": [
    "plt.imshow(x_test[2].reshape(28,28),cmap='gray')\n",
    "plt.show()\n",
    "print(y_test[2])"
   ]
  },
  {
   "cell_type": "markdown",
   "metadata": {},
   "source": [
    "# Implementation of KNN : EZPZ , 10 nearest neighbours"
   ]
  },
  {
   "cell_type": "code",
   "execution_count": 53,
   "metadata": {},
   "outputs": [
    {
     "name": "stdout",
     "output_type": "stream",
     "text": [
      "7.0\n"
     ]
    }
   ],
   "source": [
    "def distance(x_test,x_train):\n",
    "    return np.sqrt(sum((x_test-x_train)**2))\n",
    "\n",
    "def knn(x_train,y_train,x):\n",
    "    m = x_train.shape[0]\n",
    "    result =  list()\n",
    "    for i in range(m):\n",
    "        result.append((distance(x_train[i],x),y_train[i]))\n",
    "    result = sorted(result)\n",
    "    result = result[:10]\n",
    "    result = np.array(result)\n",
    "    u = np.unique(result[:,1],return_counts = True)\n",
    "    index = u[1].argmax()\n",
    "    p = u[0][index]\n",
    "    return p\n",
    "\n",
    "print(knn(x_train,y_train,x_test[2]))"
   ]
  },
  {
   "cell_type": "markdown",
   "metadata": {},
   "source": [
    "# Measuring accuracy"
   ]
  },
  {
   "cell_type": "code",
   "execution_count": 63,
   "metadata": {},
   "outputs": [
    {
     "name": "stdout",
     "output_type": "stream",
     "text": [
      "0.97\n"
     ]
    }
   ],
   "source": [
    "x_test2 = x_test[:100,:]\n",
    "y_test2 = y_test[:100]\n",
    "def accuracy(x_test2,x_train,y_test2,y_train):\n",
    "    l = x_test2.shape[0]\n",
    "    result = []\n",
    "    for i in range(l):\n",
    "        k = knn(x_train,y_train,x_test2[i])\n",
    "        result.append(k)\n",
    "#         print(k)\n",
    "    result = np.array(result)\n",
    "    s = sum(result == y_test2)\n",
    "    s = s/l\n",
    "    return s\n",
    "\n",
    "print(accuracy(x_test2,x_train,y_test2,y_train))\n",
    "        "
   ]
  },
  {
   "cell_type": "code",
   "execution_count": 64,
   "metadata": {},
   "outputs": [
    {
     "name": "stdout",
     "output_type": "stream",
     "text": [
      "[[0 0 0 ... 0 0 0]\n",
      " [0 0 0 ... 0 0 0]\n",
      " [0 0 0 ... 0 0 0]\n",
      " ...\n",
      " [0 0 0 ... 0 0 0]\n",
      " [0 0 0 ... 0 0 0]\n",
      " [0 0 0 ... 0 0 0]]\n",
      "(100, 784)\n"
     ]
    }
   ],
   "source": [
    "x2 = x_test[:100,:]\n",
    "print(x2)\n",
    "print(x2.shape)"
   ]
  }
 ],
 "metadata": {
  "kernelspec": {
   "display_name": "Python 3",
   "language": "python",
   "name": "python3"
  },
  "language_info": {
   "codemirror_mode": {
    "name": "ipython",
    "version": 3
   },
   "file_extension": ".py",
   "mimetype": "text/x-python",
   "name": "python",
   "nbconvert_exporter": "python",
   "pygments_lexer": "ipython3",
   "version": "3.6.5"
  }
 },
 "nbformat": 4,
 "nbformat_minor": 2
}
