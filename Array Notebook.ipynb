{
 "cells": [
  {
   "cell_type": "code",
   "execution_count": 27,
   "metadata": {},
   "outputs": [
    {
     "name": "stdout",
     "output_type": "stream",
     "text": [
      "{}\n",
      "[]\n"
     ]
    }
   ],
   "source": [
    "class join:\n",
    "    def __init__(self,x,y):\n",
    "        self.A = x\n",
    "        self.B = y\n",
    "        self.D = dict()\n",
    "        self.result = list()\n",
    "        for i in range(len(y)):\n",
    "            if y[i][0] in self.D.keys():\n",
    "                self.D[i].append(y[i][1])\n",
    "        print(self.D)\n",
    "    \n",
    "    def put(self):\n",
    "        for x in range(len(self.A)):\n",
    "            if self.A[x][1] in self.D.keys():\n",
    "                for y in self.D[x]:\n",
    "                    self.result.append([self.A[x][0],self.A[x][1],y])\n",
    "        \n",
    "        return self.result\n",
    "        \n",
    "# x = join()\n",
    "a = [[2,3],[2,5],[5,6],[3,3],[6,5]]\n",
    "b = [[3,1],[2,2],[5,4],[1,2],[6,9]]\n",
    "x = join(a,b)\n",
    "z = x.put()\n",
    "print(z)"
   ]
  },
  {
   "cell_type": "code",
   "execution_count": 22,
   "metadata": {},
   "outputs": [
    {
     "name": "stdout",
     "output_type": "stream",
     "text": [
      "[[2, 3], [2, 5], [5, 6], [3, 3], [6, 5]]\n"
     ]
    }
   ],
   "source": [
    "a = [[2,3],[2,5],[5,6],[3,3],[6,5]]\n"
   ]
  }
 ],
 "metadata": {
  "kernelspec": {
   "display_name": "Python 3",
   "language": "python",
   "name": "python3"
  },
  "language_info": {
   "codemirror_mode": {
    "name": "ipython",
    "version": 3
   },
   "file_extension": ".py",
   "mimetype": "text/x-python",
   "name": "python",
   "nbconvert_exporter": "python",
   "pygments_lexer": "ipython3",
   "version": "3.6.5"
  }
 },
 "nbformat": 4,
 "nbformat_minor": 2
}
